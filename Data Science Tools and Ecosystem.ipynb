{
 "cells": [
  {
   "cell_type": "markdown",
   "id": "693c6b28",
   "metadata": {},
   "source": [
    "<h1><center>Data Science Tools and Ecosystem</center></h1>"
   ]
  },
  {
   "cell_type": "markdown",
   "id": "80c41bd9",
   "metadata": {},
   "source": [
    "In this notebook, Data Science Tools and Ecosystem are summarized."
   ]
  },
  {
   "cell_type": "markdown",
   "id": "16c5cf32",
   "metadata": {},
   "source": [
    "<b>Objectives:</b>"
   ]
  },
  {
   "cell_type": "markdown",
   "id": "46559c7f",
   "metadata": {},
   "source": [
    "- Language Used by Data Science"
   ]
  },
  {
   "cell_type": "markdown",
   "id": "57bd22a3",
   "metadata": {},
   "source": [
    "- libraries Used by Data Science"
   ]
  },
  {
   "cell_type": "markdown",
   "id": "f5353f34",
   "metadata": {},
   "source": [
    "- Data Science Tools"
   ]
  },
  {
   "cell_type": "markdown",
   "id": "02ce796a",
   "metadata": {},
   "source": [
    "- Some Arithematic Operations "
   ]
  },
  {
   "cell_type": "markdown",
   "id": "843f003d",
   "metadata": {},
   "source": [
    "- Calculation used in Python"
   ]
  },
  {
   "cell_type": "markdown",
   "id": "2ea76784",
   "metadata": {},
   "source": [
    "Some of the popular languages that Data Scientists use are:"
   ]
  },
  {
   "cell_type": "markdown",
   "id": "5a6a5fb8",
   "metadata": {},
   "source": [
    "1. Python"
   ]
  },
  {
   "cell_type": "markdown",
   "id": "8ab15aa8",
   "metadata": {},
   "source": [
    "2. R"
   ]
  },
  {
   "cell_type": "markdown",
   "id": "c9f10bc1",
   "metadata": {},
   "source": [
    "3. SQL"
   ]
  },
  {
   "cell_type": "markdown",
   "id": "f4b4480b",
   "metadata": {},
   "source": [
    "4. Julia"
   ]
  },
  {
   "cell_type": "markdown",
   "id": "d895be05",
   "metadata": {},
   "source": [
    "Some of the commonly used libraries used by Data Scientists include:"
   ]
  },
  {
   "cell_type": "markdown",
   "id": "cf8a5fc0",
   "metadata": {},
   "source": [
    "1.Numpy"
   ]
  },
  {
   "cell_type": "markdown",
   "id": "e9744047",
   "metadata": {},
   "source": [
    "2.Pandas"
   ]
  },
  {
   "cell_type": "markdown",
   "id": "338f0a68",
   "metadata": {},
   "source": [
    "3.Matplotlib"
   ]
  },
  {
   "cell_type": "markdown",
   "id": "a97e955d",
   "metadata": {},
   "source": [
    "4.Scikit-learn"
   ]
  },
  {
   "cell_type": "markdown",
   "id": "2bdd4d02",
   "metadata": {},
   "source": [
    "5.Seaborn"
   ]
  },
  {
   "cell_type": "code",
   "execution_count": 3,
   "id": "e7963dda",
   "metadata": {
    "scrolled": true
   },
   "outputs": [
    {
     "name": "stdout",
     "output_type": "stream",
     "text": [
      "| Data Science Tools   |\n",
      "|:---------------------|\n",
      "| Python               |\n",
      "| R                    |\n",
      "| SQL                  |\n"
     ]
    }
   ],
   "source": [
    "import pandas as pd\n",
    "df = pd.DataFrame({\"Data Science Tools\": [\"Python\", \"R\", \"SQL\"]})\n",
    "print(df.to_markdown(index=False))"
   ]
  },
  {
   "cell_type": "markdown",
   "id": "c14c8d18",
   "metadata": {},
   "source": [
    "|Data Science Tools|\n",
    "|:-|\n",
    "|Python|\n",
    "|R|\n",
    "|SQL|"
   ]
  },
  {
   "cell_type": "markdown",
   "id": "7c74aa28",
   "metadata": {},
   "source": [
    "<h3>Below are a few examples of evaluating arithmetic expressions in Python</h3>\n",
    "+ => Addition\n",
    "- => Subtraction\n",
    "* => Multiplication\n",
    "/ => Division\n",
    "** => To raise a number to the power\n",
    "% => Modulus\n",
    "// => Interger Division\n"
   ]
  },
  {
   "cell_type": "markdown",
   "id": "c42fd042",
   "metadata": {},
   "source": [
    "<h3>Below are a few examples of evaluating arithmetic expressions in Python</h3>"
   ]
  },
  {
   "cell_type": "markdown",
   "id": "3229e627",
   "metadata": {},
   "source": [
    "1.$$+ => Addition $$"
   ]
  },
  {
   "cell_type": "markdown",
   "id": "93cf5e22",
   "metadata": {},
   "source": [
    "2. $$- => Subtraction$$"
   ]
  },
  {
   "cell_type": "markdown",
   "id": "1b577c29",
   "metadata": {},
   "source": [
    "3. $$* => Multiplication$$"
   ]
  },
  {
   "cell_type": "markdown",
   "id": "5968f312",
   "metadata": {},
   "source": [
    "4. $$/ => division$$"
   ]
  },
  {
   "cell_type": "markdown",
   "id": "8a860f70",
   "metadata": {},
   "source": [
    "5.$$ ** => $$ to raise an number to the power "
   ]
  },
  {
   "cell_type": "markdown",
   "id": "56b5abea",
   "metadata": {},
   "source": [
    "7.$$ // => Integer Division $$"
   ]
  },
  {
   "cell_type": "code",
   "execution_count": 4,
   "id": "df1fc45e",
   "metadata": {},
   "outputs": [
    {
     "data": {
      "text/plain": [
       "17"
      ]
     },
     "execution_count": 4,
     "metadata": {},
     "output_type": "execute_result"
    }
   ],
   "source": [
    "# This a simple arithmetic expression to mutiply then add integers\n",
    "(3*4)+5"
   ]
  },
  {
   "cell_type": "code",
   "execution_count": 5,
   "id": "50f1ec1c",
   "metadata": {},
   "outputs": [
    {
     "data": {
      "text/plain": [
       "12000"
      ]
     },
     "execution_count": 5,
     "metadata": {},
     "output_type": "execute_result"
    }
   ],
   "source": [
    "# This will convert 200 minutes to hours by diving by 60\n",
    "200 * 60"
   ]
  },
  {
   "cell_type": "markdown",
   "id": "c0cf28fe",
   "metadata": {},
   "source": [
    "<h2>Author</h2>"
   ]
  },
  {
   "cell_type": "markdown",
   "id": "0d5f4732",
   "metadata": {},
   "source": [
    "Ahmed Hany Elsaied Elsaied"
   ]
  }
 ],
 "metadata": {
  "kernelspec": {
   "display_name": "Python 3 (ipykernel)",
   "language": "python",
   "name": "python3"
  },
  "language_info": {
   "codemirror_mode": {
    "name": "ipython",
    "version": 3
   },
   "file_extension": ".py",
   "mimetype": "text/x-python",
   "name": "python",
   "nbconvert_exporter": "python",
   "pygments_lexer": "ipython3",
   "version": "3.11.5"
  }
 },
 "nbformat": 4,
 "nbformat_minor": 5
}
